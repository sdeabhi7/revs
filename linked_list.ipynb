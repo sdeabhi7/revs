{
 "cells": [
  {
   "cell_type": "code",
   "execution_count": 1,
   "id": "a4eb2942-3d12-42e0-9647-5fad69c4d745",
   "metadata": {},
   "outputs": [],
   "source": [
    "class Node:\n",
    "    def __init__(self, dataval = None):\n",
    "        self.dataval = dataval\n",
    "        self.nextval = None\n",
    "        \n",
    "class SLinkedList:\n",
    "    def __init__(self):\n",
    "        self.headval = None\n",
    "        \n",
    "list1 = SLinkedList()\n",
    "list1.headval = Node('Mon')\n",
    "e2 = Node('Tue')\n",
    "e3 = Node('Wed')\n",
    "\n",
    "# link 1st node to 2nd node\n",
    "list1.headval.nextval = e2\n",
    "\n",
    "# link 2nd node to next node\n",
    "e2.nextval = e3"
   ]
  },
  {
   "cell_type": "code",
   "execution_count": null,
   "id": "1d123221-62d0-4109-9ce4-854c160a9a42",
   "metadata": {},
   "outputs": [],
   "source": []
  }
 ],
 "metadata": {
  "kernelspec": {
   "display_name": "Python 3 (ipykernel)",
   "language": "python",
   "name": "python3"
  },
  "language_info": {
   "codemirror_mode": {
    "name": "ipython",
    "version": 3
   },
   "file_extension": ".py",
   "mimetype": "text/x-python",
   "name": "python",
   "nbconvert_exporter": "python",
   "pygments_lexer": "ipython3",
   "version": "3.10.7"
  }
 },
 "nbformat": 4,
 "nbformat_minor": 5
}
