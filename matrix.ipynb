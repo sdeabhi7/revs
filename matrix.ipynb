{
 "cells": [
  {
   "cell_type": "code",
   "execution_count": 1,
   "id": "c72f117e-edb1-49b6-84b2-0818e0a1786a",
   "metadata": {},
   "outputs": [],
   "source": [
    "# rotate matrix"
   ]
  },
  {
   "cell_type": "code",
   "execution_count": 2,
   "id": "2a0b0338-6de7-4192-a2ca-f37aa65e8493",
   "metadata": {},
   "outputs": [],
   "source": [
    "matrix = [1,2,3,4]\n",
    "temp = []\n",
    "a = matrix.pop()\n",
    "matrix.insert(0, a)"
   ]
  },
  {
   "cell_type": "code",
   "execution_count": 3,
   "id": "52a7eaaa-9569-4f7e-9329-175db2d95bfc",
   "metadata": {},
   "outputs": [
    {
     "data": {
      "text/plain": [
       "[4, 1, 2, 3]"
      ]
     },
     "execution_count": 3,
     "metadata": {},
     "output_type": "execute_result"
    }
   ],
   "source": [
    "matrix "
   ]
  },
  {
   "cell_type": "code",
   "execution_count": 5,
   "id": "338d195e-10ab-4591-bd38-f6be019d50d4",
   "metadata": {},
   "outputs": [
    {
     "name": "stdin",
     "output_type": "stream",
     "text": [
      "how many times you want to rotate:-  1\n"
     ]
    },
    {
     "name": "stdout",
     "output_type": "stream",
     "text": [
      "[4, 1, 2, 3]\n"
     ]
    }
   ],
   "source": [
    "matrix_2 = [1,2,3,4]\n",
    "number = int(input('how many times you want to rotate:- '))\n",
    "k = 0\n",
    "for i in range(1,number+1):  \n",
    "    a = matrix_2.pop(-1)\n",
    "    matrix_2.insert(0, a)\n",
    "print(matrix_2)"
   ]
  },
  {
   "cell_type": "code",
   "execution_count": 6,
   "id": "0c8e8645-1e3c-40bb-b3ba-e03e754e2dab",
   "metadata": {},
   "outputs": [
    {
     "name": "stdin",
     "output_type": "stream",
     "text": [
      "how many times you want to rotate:-  2\n"
     ]
    },
    {
     "name": "stdout",
     "output_type": "stream",
     "text": [
      "[8, 9, 1, 2, 3, 4, 5, 6, 7]\n"
     ]
    }
   ],
   "source": [
    "m = [1,2,3,4,5,6,7,8,9]\n",
    "n = int(input('how many times you want to rotate:- '))\n",
    "temp = []\n",
    "temp = m[-n:]\n",
    "m = m[:-n]\n",
    "temp.extend(m)\n",
    "print(temp)"
   ]
  },
  {
   "cell_type": "code",
   "execution_count": 7,
   "id": "601baaa3-65f2-4088-a867-3aaa4793c9b1",
   "metadata": {},
   "outputs": [],
   "source": [
    "from array import *"
   ]
  },
  {
   "cell_type": "code",
   "execution_count": 8,
   "id": "866585b6-6513-46c8-bf7e-9f2b53888f62",
   "metadata": {},
   "outputs": [
    {
     "name": "stdout",
     "output_type": "stream",
     "text": [
      "2\n",
      "3\n",
      "4\n"
     ]
    }
   ],
   "source": [
    "arr = array('i', [1,2,3,4])\n",
    "arr.remove(1)\n",
    "for i in arr:\n",
    "    print(i)"
   ]
  },
  {
   "cell_type": "code",
   "execution_count": 9,
   "id": "84157ad0-1e7e-4dab-ac59-cc731d012776",
   "metadata": {},
   "outputs": [
    {
     "data": {
      "text/plain": [
       "0"
      ]
     },
     "execution_count": 9,
     "metadata": {},
     "output_type": "execute_result"
    }
   ],
   "source": [
    "arr.index(2)"
   ]
  },
  {
   "cell_type": "code",
   "execution_count": 10,
   "id": "fc13826a-3dbd-47e1-abf4-9a49991bf86f",
   "metadata": {},
   "outputs": [],
   "source": [
    "arr[1] = 40"
   ]
  },
  {
   "cell_type": "code",
   "execution_count": 11,
   "id": "86846959-5d7c-48a4-8796-1559735da92c",
   "metadata": {},
   "outputs": [
    {
     "name": "stdout",
     "output_type": "stream",
     "text": [
      "2\n",
      "40\n",
      "4\n"
     ]
    }
   ],
   "source": [
    "for i in arr:\n",
    "    print(i)"
   ]
  },
  {
   "cell_type": "code",
   "execution_count": 12,
   "id": "f18a5b61-59b5-415f-930a-1b3ca7f1d80c",
   "metadata": {},
   "outputs": [],
   "source": [
    "# 2D array"
   ]
  },
  {
   "cell_type": "code",
   "execution_count": 13,
   "id": "19d6b027-b4cb-47fe-9338-78efe3900cd5",
   "metadata": {},
   "outputs": [
    {
     "name": "stdout",
     "output_type": "stream",
     "text": [
      "1 2 3 4 \n",
      "6 7 8 9 \n"
     ]
    }
   ],
   "source": [
    "arr = [[1,2,3,4], [6,7,8,9]]\n",
    "for i in arr:\n",
    "    for j in i:\n",
    "        print(j, end=' ')\n",
    "    print()"
   ]
  },
  {
   "cell_type": "code",
   "execution_count": 14,
   "id": "ee1766e1-363a-4712-96fe-f27ec6637a96",
   "metadata": {},
   "outputs": [],
   "source": [
    "arr.insert(1, [2,4,6,8])\n",
    "arr.insert(2, [1,4,6,9])"
   ]
  },
  {
   "cell_type": "code",
   "execution_count": 15,
   "id": "897976ff-5b24-4159-a755-7345cbe8cb43",
   "metadata": {},
   "outputs": [
    {
     "data": {
      "text/plain": [
       "[[1, 2, 3, 4], [2, 4, 6, 8], [1, 4, 6, 9], [6, 7, 8, 9]]"
      ]
     },
     "execution_count": 15,
     "metadata": {},
     "output_type": "execute_result"
    }
   ],
   "source": [
    "arr"
   ]
  },
  {
   "cell_type": "code",
   "execution_count": 16,
   "id": "015964e2-1c91-45b9-ab57-652ea95902c9",
   "metadata": {},
   "outputs": [
    {
     "name": "stdout",
     "output_type": "stream",
     "text": [
      "1 2 3 4 \n",
      "2 4 6 8 \n",
      "1 4 6 9 \n",
      "6 7 8 9 \n"
     ]
    }
   ],
   "source": [
    "for i in arr:\n",
    "    for j in i:\n",
    "        print(j, end=' ')\n",
    "    print()"
   ]
  },
  {
   "cell_type": "code",
   "execution_count": 17,
   "id": "7ba7c3dd-2c5b-4af8-bd53-bb4bed6329dd",
   "metadata": {},
   "outputs": [],
   "source": [
    "del arr[3]"
   ]
  },
  {
   "cell_type": "code",
   "execution_count": 18,
   "id": "8621e24e-379f-46b9-bf3a-8567f83f14e3",
   "metadata": {},
   "outputs": [
    {
     "data": {
      "text/plain": [
       "[[1, 2, 3, 4], [2, 4, 6, 8], [1, 4, 6, 9]]"
      ]
     },
     "execution_count": 18,
     "metadata": {},
     "output_type": "execute_result"
    }
   ],
   "source": [
    "arr"
   ]
  },
  {
   "cell_type": "code",
   "execution_count": 19,
   "id": "267c71fd-7aaa-42ec-9472-c68dfcc55591",
   "metadata": {},
   "outputs": [
    {
     "name": "stdout",
     "output_type": "stream",
     "text": [
      "1 2 3 4 \n",
      "2 4 6 8 \n",
      "1 4 6 9 \n"
     ]
    }
   ],
   "source": [
    "for i in arr:\n",
    "    for j in i:\n",
    "        print(j, end=' ')\n",
    "    print()"
   ]
  },
  {
   "cell_type": "code",
   "execution_count": 20,
   "id": "7e730060-e32a-4fd4-a801-48e2887f199e",
   "metadata": {},
   "outputs": [],
   "source": [
    "from numpy import *"
   ]
  },
  {
   "cell_type": "code",
   "execution_count": 21,
   "id": "f4d2d13f-b5a5-460f-88f4-6a9f2bf776fb",
   "metadata": {},
   "outputs": [],
   "source": [
    "a = array([['Mon',18,20,22,17],['Tue',11,18,21,18],\n",
    "           ['Wed',15,21,20,19],['Thu',11,20,22,21],\n",
    "           ['Fri',18,17,23,22],['Sat',12,22,20,18],\n",
    "           ['Sun',13,15,19,16]])\n",
    "m = reshape(a, (7,5))"
   ]
  },
  {
   "cell_type": "code",
   "execution_count": 22,
   "id": "bce4a216-14a8-45d8-b45b-dd2f92a5ebf0",
   "metadata": {},
   "outputs": [
    {
     "data": {
      "text/plain": [
       "array([['Mon', '18', '20', '22', '17'],\n",
       "       ['Tue', '11', '18', '21', '18'],\n",
       "       ['Wed', '15', '21', '20', '19'],\n",
       "       ['Thu', '11', '20', '22', '21'],\n",
       "       ['Fri', '18', '17', '23', '22'],\n",
       "       ['Sat', '12', '22', '20', '18'],\n",
       "       ['Sun', '13', '15', '19', '16']], dtype='<U21')"
      ]
     },
     "execution_count": 22,
     "metadata": {},
     "output_type": "execute_result"
    }
   ],
   "source": [
    "m"
   ]
  },
  {
   "cell_type": "code",
   "execution_count": 23,
   "id": "afbc7cae-9811-469b-838f-d3f8ed1cf54d",
   "metadata": {},
   "outputs": [
    {
     "data": {
      "text/plain": [
       "array(['Wed', '15', '21', '20', '19'], dtype='<U21')"
      ]
     },
     "execution_count": 23,
     "metadata": {},
     "output_type": "execute_result"
    }
   ],
   "source": [
    "m[2]"
   ]
  },
  {
   "cell_type": "code",
   "execution_count": 24,
   "id": "5e18d693-1ef0-476b-a6d8-f518fb93b819",
   "metadata": {},
   "outputs": [
    {
     "data": {
      "text/plain": [
       "'22'"
      ]
     },
     "execution_count": 24,
     "metadata": {},
     "output_type": "execute_result"
    }
   ],
   "source": [
    "m[4][4]"
   ]
  },
  {
   "cell_type": "code",
   "execution_count": 25,
   "id": "af7cf268-af85-4b90-9239-e0cc82a74fc5",
   "metadata": {},
   "outputs": [],
   "source": [
    "m_r = append(m, [['Avg',12,15,13,11]], 0)     # add new row"
   ]
  },
  {
   "cell_type": "code",
   "execution_count": 26,
   "id": "7f145473-976b-445b-8b60-acf2e75832d7",
   "metadata": {},
   "outputs": [
    {
     "data": {
      "text/plain": [
       "array([['Mon', '18', '20', '22', '17'],\n",
       "       ['Tue', '11', '18', '21', '18'],\n",
       "       ['Wed', '15', '21', '20', '19'],\n",
       "       ['Thu', '11', '20', '22', '21'],\n",
       "       ['Fri', '18', '17', '23', '22'],\n",
       "       ['Sat', '12', '22', '20', '18'],\n",
       "       ['Sun', '13', '15', '19', '16'],\n",
       "       ['Avg', '12', '15', '13', '11']], dtype='<U21')"
      ]
     },
     "execution_count": 26,
     "metadata": {},
     "output_type": "execute_result"
    }
   ],
   "source": [
    "m_r"
   ]
  },
  {
   "cell_type": "code",
   "execution_count": 27,
   "id": "b2a2530d-fac6-41c7-a2c1-d4197ae7be18",
   "metadata": {},
   "outputs": [
    {
     "data": {
      "text/plain": [
       "array([['Mon', '18', '20', '22', '17'],\n",
       "       ['Tue', '11', '18', '21', '18'],\n",
       "       ['Thu', '11', '20', '22', '21'],\n",
       "       ['Fri', '18', '17', '23', '22'],\n",
       "       ['Sat', '12', '22', '20', '18'],\n",
       "       ['Sun', '13', '15', '19', '16']], dtype='<U21')"
      ]
     },
     "execution_count": 27,
     "metadata": {},
     "output_type": "execute_result"
    }
   ],
   "source": [
    "delete(m, [2], 0) # 0 for row and 1 for column"
   ]
  },
  {
   "cell_type": "code",
   "execution_count": 28,
   "id": "748d38ea-dbbc-4a41-9bcb-aa54a136e47a",
   "metadata": {},
   "outputs": [
    {
     "data": {
      "text/plain": [
       "array([['Mon', '18', '20', '22', '17'],\n",
       "       ['Tue', '11', '18', '21', '18'],\n",
       "       ['Wed', '15', '21', '20', '19'],\n",
       "       ['Thu', '11', '20', '22', '21'],\n",
       "       ['Fri', '18', '17', '23', '22'],\n",
       "       ['Sat', '12', '22', '20', '18'],\n",
       "       ['Sun', '13', '15', '19', '16']], dtype='<U21')"
      ]
     },
     "execution_count": 28,
     "metadata": {},
     "output_type": "execute_result"
    }
   ],
   "source": [
    "m"
   ]
  },
  {
   "cell_type": "code",
   "execution_count": 29,
   "id": "c25e4e36-f0ba-44e8-816c-13a9d9b8584d",
   "metadata": {},
   "outputs": [],
   "source": [
    "m[2] = ['Wed', 12, 14, 16, 18]         # update a row"
   ]
  },
  {
   "cell_type": "code",
   "execution_count": 30,
   "id": "e4aa8f33-b815-4ca6-8fef-35fcd3370cb5",
   "metadata": {},
   "outputs": [
    {
     "data": {
      "text/plain": [
       "array([['Mon', '18', '20', '22', '17'],\n",
       "       ['Tue', '11', '18', '21', '18'],\n",
       "       ['Wed', '12', '14', '16', '18'],\n",
       "       ['Thu', '11', '20', '22', '21'],\n",
       "       ['Fri', '18', '17', '23', '22'],\n",
       "       ['Sat', '12', '22', '20', '18'],\n",
       "       ['Sun', '13', '15', '19', '16']], dtype='<U21')"
      ]
     },
     "execution_count": 30,
     "metadata": {},
     "output_type": "execute_result"
    }
   ],
   "source": [
    "m"
   ]
  },
  {
   "cell_type": "code",
   "execution_count": null,
   "id": "4b9c0881-267d-4ac9-a06b-aff611474617",
   "metadata": {},
   "outputs": [],
   "source": []
  },
  {
   "cell_type": "code",
   "execution_count": null,
   "id": "521dba0e-70c9-4b9a-a3e6-6671249ca67c",
   "metadata": {},
   "outputs": [],
   "source": []
  }
 ],
 "metadata": {
  "kernelspec": {
   "display_name": "Python 3 (ipykernel)",
   "language": "python",
   "name": "python3"
  },
  "language_info": {
   "codemirror_mode": {
    "name": "ipython",
    "version": 3
   },
   "file_extension": ".py",
   "mimetype": "text/x-python",
   "name": "python",
   "nbconvert_exporter": "python",
   "pygments_lexer": "ipython3",
   "version": "3.10.7"
  }
 },
 "nbformat": 4,
 "nbformat_minor": 5
}
