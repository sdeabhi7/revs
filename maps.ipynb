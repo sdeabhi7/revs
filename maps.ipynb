{
 "cells": [
  {
   "cell_type": "code",
   "execution_count": 1,
   "id": "9a00c815-755e-4cb3-a2cc-25d7abb739d3",
   "metadata": {},
   "outputs": [],
   "source": [
    "# maps"
   ]
  },
  {
   "cell_type": "code",
   "execution_count": 2,
   "id": "f83b06e4-e7c4-4827-8656-6fed3a2c9e94",
   "metadata": {},
   "outputs": [],
   "source": [
    "import collections"
   ]
  },
  {
   "cell_type": "code",
   "execution_count": 3,
   "id": "c0ae26df-b31b-4de6-8c6f-1d44725dc0ca",
   "metadata": {},
   "outputs": [],
   "source": [
    "dict1 = {'day1': 'Mon', 'day2': 'Tue'}\n",
    "dict2 = {'day3': 'Thu', 'day4': 'Sat'}\n",
    "\n",
    "res = collections.ChainMap(dict1, dict2)"
   ]
  },
  {
   "cell_type": "code",
   "execution_count": 4,
   "id": "fe87c5d1-3496-4603-a30a-0a2df48d0a2d",
   "metadata": {},
   "outputs": [
    {
     "data": {
      "text/plain": [
       "ChainMap({'day1': 'Mon', 'day2': 'Tue'}, {'day3': 'Thu', 'day4': 'Sat'})"
      ]
     },
     "execution_count": 4,
     "metadata": {},
     "output_type": "execute_result"
    }
   ],
   "source": [
    "res"
   ]
  },
  {
   "cell_type": "code",
   "execution_count": 5,
   "id": "505e544d-efc1-4e4f-8db2-eea10d853447",
   "metadata": {},
   "outputs": [
    {
     "name": "stdout",
     "output_type": "stream",
     "text": [
      "keys = ['day3', 'day4', 'day1', 'day2']\n",
      "values = ['Thu', 'Sat', 'Mon', 'Tue']\n"
     ]
    }
   ],
   "source": [
    "print('keys = {}'.format(list(res.keys())))\n",
    "print('values = {}'.format(list(res.values())))"
   ]
  },
  {
   "cell_type": "code",
   "execution_count": 6,
   "id": "9fab8418-2c30-44e8-84f0-e6b8c0197d5b",
   "metadata": {},
   "outputs": [
    {
     "name": "stdout",
     "output_type": "stream",
     "text": [
      "day3 = Thu\n",
      "day4 = Sat\n",
      "day1 = Mon\n",
      "day2 = Tue\n"
     ]
    }
   ],
   "source": [
    "for key, val in res.items():\n",
    "    print('{} = {}'.format(key, val))"
   ]
  },
  {
   "cell_type": "code",
   "execution_count": 7,
   "id": "2baf18ed-e694-459d-98c7-811d38f07969",
   "metadata": {},
   "outputs": [],
   "source": [
    "# update maps\n",
    "\n",
    "dict2['day4'] = 'Sun'"
   ]
  },
  {
   "cell_type": "code",
   "execution_count": 8,
   "id": "f2ca6f65-d1d8-4c4e-b374-4e97246b32e6",
   "metadata": {},
   "outputs": [
    {
     "data": {
      "text/plain": [
       "{'day3': 'Thu', 'day4': 'Sun'}"
      ]
     },
     "execution_count": 8,
     "metadata": {},
     "output_type": "execute_result"
    }
   ],
   "source": [
    "dict2"
   ]
  }
 ],
 "metadata": {
  "kernelspec": {
   "display_name": "Python 3 (ipykernel)",
   "language": "python",
   "name": "python3"
  },
  "language_info": {
   "codemirror_mode": {
    "name": "ipython",
    "version": 3
   },
   "file_extension": ".py",
   "mimetype": "text/x-python",
   "name": "python",
   "nbconvert_exporter": "python",
   "pygments_lexer": "ipython3",
   "version": "3.10.7"
  }
 },
 "nbformat": 4,
 "nbformat_minor": 5
}
