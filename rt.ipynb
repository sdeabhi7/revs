{
 "cells": [
  {
   "cell_type": "code",
   "execution_count": 1,
   "id": "26ac21aa-aea8-4f61-a212-3bf0c2318b91",
   "metadata": {},
   "outputs": [],
   "source": [
    "# root node"
   ]
  },
  {
   "cell_type": "code",
   "execution_count": 2,
   "id": "5ff03d93-c6b3-4120-8cd9-8190f92c6d55",
   "metadata": {},
   "outputs": [
    {
     "name": "stdout",
     "output_type": "stream",
     "text": [
      "10\n"
     ]
    }
   ],
   "source": [
    "class Node:\n",
    "    def __init__(self, data):\n",
    "        self.right = None\n",
    "        self.left = None\n",
    "        self.data = data \n",
    "    def printtree(self):\n",
    "        print(self.data)\n",
    "\n",
    "root = Node(10)\n",
    "root.printtree()"
   ]
  },
  {
   "cell_type": "code",
   "execution_count": 3,
   "id": "5fc626f7-8429-477e-bcf8-33aebb127129",
   "metadata": {},
   "outputs": [],
   "source": [
    "# insert into binary tree"
   ]
  },
  {
   "cell_type": "code",
   "execution_count": 4,
   "id": "783272ee-183f-44e1-bfec-abc07ad72f6b",
   "metadata": {
    "tags": []
   },
   "outputs": [
    {
     "name": "stdout",
     "output_type": "stream",
     "text": [
      "1\n",
      "8\n",
      "9\n",
      "19\n",
      "99\n",
      "108\n"
     ]
    }
   ],
   "source": [
    "class Node:\n",
    "    def __init__(self, data):\n",
    "        self.data = data\n",
    "        self.right = None\n",
    "        self.left = None\n",
    "\n",
    "# the new value will be compared with root node\n",
    "        \n",
    "        \n",
    "    def insert(self, data):\n",
    "        if data < self.data:\n",
    "            if self.left is None:\n",
    "                self.left = Node(data)\n",
    "            else:\n",
    "                self.left.insert(data)\n",
    "        elif data > self.data:\n",
    "            if self.right is None:\n",
    "                self.right = Node(data)\n",
    "            else:\n",
    "                self.right.insert(data)\n",
    "        else:\n",
    "            self.data = data\n",
    "            \n",
    "            \n",
    "# print tree\n",
    "\n",
    "    def printtree(self):\n",
    "        if self.left:\n",
    "            self.left.printtree()\n",
    "        print(self.data)\n",
    "        if self.right:\n",
    "            self.right.printtree()\n",
    "\n",
    "# using the insert function to add node\n",
    "\n",
    "root = Node(99)\n",
    "root.insert(9)\n",
    "root.insert(19)\n",
    "root.insert(1)\n",
    "root.insert(8)\n",
    "root.insert(108)\n",
    "root.printtree()"
   ]
  },
  {
   "cell_type": "code",
   "execution_count": 5,
   "id": "0c26442b-9036-46ef-b9c3-a93826e7fde8",
   "metadata": {},
   "outputs": [],
   "source": [
    "# traversing tree"
   ]
  },
  {
   "cell_type": "code",
   "execution_count": 6,
   "id": "49d7d2f5-7596-418c-ac58-8aed3f832a81",
   "metadata": {},
   "outputs": [
    {
     "name": "stdout",
     "output_type": "stream",
     "text": [
      "[10, 14, 19, 27, 31, 35, 42]\n"
     ]
    }
   ],
   "source": [
    "class Node():\n",
    "    def __init__(self, data):\n",
    "        self.left = None\n",
    "        self.right = None\n",
    "        self.data = data\n",
    "        \n",
    "    def insert(self, data):\n",
    "        if self.data:\n",
    "            if data < self.data:\n",
    "                if self.left is None:\n",
    "                    self.left = Node(data)\n",
    "                else:\n",
    "                    self.left.insert(data)\n",
    "                \n",
    "            elif data > self.data:\n",
    "                if self.right is None:\n",
    "                    self.right = Node(data)\n",
    "                else:\n",
    "                    self.right.insert(data)\n",
    "        else:        \n",
    "            self.data = data\n",
    "            \n",
    "            \n",
    "    def printtree(self):\n",
    "        if self.left:\n",
    "            self.left.printtree()\n",
    "        print(self.data)\n",
    "        if self.right:\n",
    "            self.right.printtree()\n",
    "            \n",
    "            \n",
    "    def inordertraver(self, root):\n",
    "        res = []\n",
    "        if root:\n",
    "            res = self.inordertraver(root.left)\n",
    "            res.append(root.data)\n",
    "            res = res + self.inordertraver(root.right)\n",
    "        return res\n",
    "\n",
    "root = Node(27)\n",
    "root.insert(14)\n",
    "root.insert(35)\n",
    "root.insert(10)\n",
    "root.insert(19)\n",
    "root.insert(31)\n",
    "root.insert(42)\n",
    "print(root.inordertraver(root)) "
   ]
  },
  {
   "cell_type": "code",
   "execution_count": null,
   "id": "df843ef0-42f6-482a-b135-5cf18c2aaf46",
   "metadata": {},
   "outputs": [],
   "source": []
  }
 ],
 "metadata": {
  "kernelspec": {
   "display_name": "Python 3 (ipykernel)",
   "language": "python",
   "name": "python3"
  },
  "language_info": {
   "codemirror_mode": {
    "name": "ipython",
    "version": 3
   },
   "file_extension": ".py",
   "mimetype": "text/x-python",
   "name": "python",
   "nbconvert_exporter": "python",
   "pygments_lexer": "ipython3",
   "version": "3.10.7"
  }
 },
 "nbformat": 4,
 "nbformat_minor": 5
}
