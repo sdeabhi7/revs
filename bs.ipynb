{
 "cells": [
  {
   "cell_type": "code",
   "execution_count": 1,
   "id": "3cd31af7-0364-4a80-bd98-e5311fe0929f",
   "metadata": {},
   "outputs": [
    {
     "name": "stdout",
     "output_type": "stream",
     "text": [
      "['i', 'want']\n",
      "['want', 'to']\n",
      "['to', 'go']\n",
      "['go', 'to']\n",
      "['to', 'school']\n"
     ]
    }
   ],
   "source": [
    "m = 2\n",
    "word = ['i', 'want', 'to', 'go', 'to', 'school']\n",
    "for i in range(len(word) - 1):\n",
    "    print(word[i:i+m])"
   ]
  },
  {
   "cell_type": "code",
   "execution_count": 2,
   "id": "68b53054-17b9-4453-b1fc-8c40b81507d8",
   "metadata": {},
   "outputs": [
    {
     "name": "stdout",
     "output_type": "stream",
     "text": [
      "index :- 1\n"
     ]
    }
   ],
   "source": [
    "def bs(a, t, l, h):\n",
    "\n",
    "    if h>= l:\n",
    "\n",
    "        m = l + (h- l)//2\n",
    "\n",
    "        if a[m] == t:\n",
    "            return m\n",
    "\n",
    "        elif a[m] < t:\n",
    "            return bs(a, t, m + 1, h)\n",
    "\n",
    "        else:\n",
    "            return bs(a, t, l, m-1)\n",
    "\n",
    "    else:\n",
    "        return -1\n",
    "\n",
    "\n",
    "a = [3, 4, 5, 6, 7, 8, 9]\n",
    "t = 4\n",
    "\n",
    "r = bs(a, t, 0, len(a)-1)\n",
    "\n",
    "if r != -1:\n",
    "    print(\"index :-\", r)\n",
    "else:\n",
    "    print(\"data error\")"
   ]
  },
  {
   "cell_type": "code",
   "execution_count": null,
   "id": "f2bc5904-0906-46fa-8320-8c28fd6f3923",
   "metadata": {},
   "outputs": [],
   "source": []
  }
 ],
 "metadata": {
  "kernelspec": {
   "display_name": "Python 3 (ipykernel)",
   "language": "python",
   "name": "python3"
  },
  "language_info": {
   "codemirror_mode": {
    "name": "ipython",
    "version": 3
   },
   "file_extension": ".py",
   "mimetype": "text/x-python",
   "name": "python",
   "nbconvert_exporter": "python",
   "pygments_lexer": "ipython3",
   "version": "3.10.7"
  }
 },
 "nbformat": 4,
 "nbformat_minor": 5
}
